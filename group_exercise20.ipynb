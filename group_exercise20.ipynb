{
 "cells": [
  {
   "cell_type": "markdown",
   "id": "4433961e",
   "metadata": {},
   "source": [
    "### 1. Take the result of the following line of code (but use whatever available text you want) and write a function to concatenate the data back into sentences, with one readable sentence in each list. \n",
    "\n",
    "sentences = nltk.corpus.gutenberg.sents(\"carroll-alice.txt\")[:10]"
   ]
  },
  {
   "cell_type": "code",
   "execution_count": 4,
   "id": "505f559b",
   "metadata": {},
   "outputs": [
    {
     "name": "stderr",
     "output_type": "stream",
     "text": [
      "[nltk_data] Downloading package gutenberg to\n",
      "[nltk_data]     C:\\Users\\sachn\\AppData\\Roaming\\nltk_data...\n",
      "[nltk_data]   Unzipping corpora\\gutenberg.zip.\n"
     ]
    },
    {
     "data": {
      "text/plain": [
       "[[\"[ Alice ' s Adventures in Wonderland by Lewis Carroll 1865 ]\"],\n",
       " ['CHAPTER I .'],\n",
       " ['Down the Rabbit - Hole'],\n",
       " [\"Alice was beginning to get very tired of sitting by her sister on the bank , and of having nothing to do : once or twice she had peeped into the book her sister was reading , but it had no pictures or conversations in it , ' and what is the use of a book ,' thought Alice ' without pictures or conversation ?'\"],\n",
       " ['So she was considering in her own mind ( as well as she could , for the hot day made her feel very sleepy and stupid ), whether the pleasure of making a daisy - chain would be worth the trouble of getting up and picking the daisies , when suddenly a White Rabbit with pink eyes ran close by her .'],\n",
       " [\"There was nothing so VERY remarkable in that ; nor did Alice think it so VERY much out of the way to hear the Rabbit say to itself , ' Oh dear !\"],\n",
       " ['Oh dear !'],\n",
       " [\"I shall be late !'\"],\n",
       " ['( when she thought it over afterwards , it occurred to her that she ought to have wondered at this , but at the time it all seemed quite natural ); but when the Rabbit actually TOOK A WATCH OUT OF ITS WAISTCOAT - POCKET , and looked at it , and then hurried on , Alice started to her feet , for it flashed across her mind that she had never before seen a rabbit with either a waistcoat - pocket , or a watch to take out of it , and burning with curiosity , she ran across the field after it , and fortunately was just in time to see it pop down a large rabbit - hole under the hedge .'],\n",
       " ['In another moment down went Alice after it , never once considering how in the world she was to get out again .']]"
      ]
     },
     "execution_count": 4,
     "metadata": {},
     "output_type": "execute_result"
    }
   ],
   "source": [
    "import nltk\n",
    "nltk.download('gutenberg')\n",
    "  \n",
    "sentences = nltk.corpus.gutenberg.sents(\"carroll-alice.txt\")[:10]\n",
    "def un_token():\n",
    "    new_concat = []\n",
    "    for s in sentences:\n",
    "        for w in s:\n",
    "            new_concat.append([' '.join(s)])\n",
    "            break\n",
    "    return new_concat\n",
    "un_token()"
   ]
  },
  {
   "cell_type": "markdown",
   "id": "84155f28",
   "metadata": {},
   "source": [
    "### 2. Create a function that accepts a list of values. Filter out all values that are numeric and return the new list. \n",
    "\n",
    "Input: [1,2,'a','b',7.6] \n",
    "    \n",
    "output: [‘a’,’b’]"
   ]
  },
  {
   "cell_type": "code",
   "execution_count": 8,
   "id": "b68639cb",
   "metadata": {},
   "outputs": [],
   "source": [
    "def func(var):\n",
    "    new_list = []\n",
    "    for i in var:\n",
    "        if not isinstance(i, int):\n",
    "            if not isinstance(i, float):\n",
    "                new_list.append(i)\n",
    "    return new_list"
   ]
  },
  {
   "cell_type": "code",
   "execution_count": 9,
   "id": "bec12d48",
   "metadata": {},
   "outputs": [
    {
     "data": {
      "text/plain": [
       "['a', 'b']"
      ]
     },
     "execution_count": 9,
     "metadata": {},
     "output_type": "execute_result"
    }
   ],
   "source": [
    "func([1,2,'a', 'b', 7.6])"
   ]
  },
  {
   "cell_type": "code",
   "execution_count": null,
   "id": "e70a0570",
   "metadata": {},
   "outputs": [],
   "source": []
  }
 ],
 "metadata": {
  "kernelspec": {
   "display_name": "Python 3",
   "language": "python",
   "name": "python3"
  },
  "language_info": {
   "codemirror_mode": {
    "name": "ipython",
    "version": 3
   },
   "file_extension": ".py",
   "mimetype": "text/x-python",
   "name": "python",
   "nbconvert_exporter": "python",
   "pygments_lexer": "ipython3",
   "version": "3.8.8"
  }
 },
 "nbformat": 4,
 "nbformat_minor": 5
}
